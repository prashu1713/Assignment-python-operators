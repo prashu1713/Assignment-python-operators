{
 "cells": [
  {
   "cell_type": "markdown",
   "id": "7cf18b53-edea-47f0-abb4-5524bce1bdf7",
   "metadata": {},
   "source": [
    " Calculate the sum, difference, product, and quotient of two numbers."
   ]
  },
  {
   "cell_type": "code",
   "execution_count": 2,
   "id": "ad823563-4093-4d79-b8a5-6d1ee266060e",
   "metadata": {},
   "outputs": [],
   "source": [
    "# let the numbers be 155 and 120"
   ]
  },
  {
   "cell_type": "code",
   "execution_count": 3,
   "id": "953dd677-a9ba-4676-9801-faa93c3d591c",
   "metadata": {},
   "outputs": [],
   "source": [
    "a = 155, 120"
   ]
  },
  {
   "cell_type": "code",
   "execution_count": 4,
   "id": "b7b7709f-bafb-4096-b790-e70e930ac7b4",
   "metadata": {},
   "outputs": [
    {
     "data": {
      "text/plain": [
       "275"
      ]
     },
     "execution_count": 4,
     "metadata": {},
     "output_type": "execute_result"
    }
   ],
   "source": [
    "sum(a)"
   ]
  },
  {
   "cell_type": "code",
   "execution_count": 5,
   "id": "90011696-ce6b-42f3-8491-644e0c5cd11c",
   "metadata": {},
   "outputs": [
    {
     "data": {
      "text/plain": [
       "35"
      ]
     },
     "execution_count": 5,
     "metadata": {},
     "output_type": "execute_result"
    }
   ],
   "source": [
    "155 - 120"
   ]
  },
  {
   "cell_type": "code",
   "execution_count": 6,
   "id": "f0d1c89a-d89d-482e-a4e9-e57e2b140dd8",
   "metadata": {},
   "outputs": [
    {
     "data": {
      "text/plain": [
       "1.2916666666666667"
      ]
     },
     "execution_count": 6,
     "metadata": {},
     "output_type": "execute_result"
    }
   ],
   "source": [
    "155 / 120"
   ]
  },
  {
   "cell_type": "code",
   "execution_count": 7,
   "id": "e6493cfc-01d1-4443-a633-d2279bac0630",
   "metadata": {},
   "outputs": [
    {
     "data": {
      "text/plain": [
       "1"
      ]
     },
     "execution_count": 7,
     "metadata": {},
     "output_type": "execute_result"
    }
   ],
   "source": [
    "155 // 120 # quotient"
   ]
  },
  {
   "cell_type": "markdown",
   "id": "f7b10f51-5560-4aab-a35f-8ec2e2affa88",
   "metadata": {},
   "source": [
    "Perform various assignment operations on a variable."
   ]
  },
  {
   "cell_type": "code",
   "execution_count": 8,
   "id": "bc3471d7-1b4f-46b2-84fb-80a3b99bfd16",
   "metadata": {},
   "outputs": [],
   "source": [
    "p = 100"
   ]
  },
  {
   "cell_type": "code",
   "execution_count": 9,
   "id": "7c4d5417-715b-498f-9966-7c8b4636c726",
   "metadata": {},
   "outputs": [
    {
     "data": {
      "text/plain": [
       "150"
      ]
     },
     "execution_count": 9,
     "metadata": {},
     "output_type": "execute_result"
    }
   ],
   "source": [
    "p+50"
   ]
  },
  {
   "cell_type": "code",
   "execution_count": 10,
   "id": "5ba3ef8c-c0f5-4a1a-90ae-eaa1ee2f2403",
   "metadata": {},
   "outputs": [
    {
     "data": {
      "text/plain": [
       "100"
      ]
     },
     "execution_count": 10,
     "metadata": {},
     "output_type": "execute_result"
    }
   ],
   "source": [
    "p"
   ]
  },
  {
   "cell_type": "code",
   "execution_count": 11,
   "id": "99021dbb-fe19-4cbb-b516-c3d411da986d",
   "metadata": {},
   "outputs": [],
   "source": [
    "p = p+50"
   ]
  },
  {
   "cell_type": "code",
   "execution_count": 12,
   "id": "a2fa0f81-6f74-4ff6-b63e-0fb8214359d7",
   "metadata": {},
   "outputs": [
    {
     "data": {
      "text/plain": [
       "150"
      ]
     },
     "execution_count": 12,
     "metadata": {},
     "output_type": "execute_result"
    }
   ],
   "source": [
    "p"
   ]
  },
  {
   "cell_type": "code",
   "execution_count": 13,
   "id": "188061df-f6f7-4ef2-a0f1-4151a06590f8",
   "metadata": {},
   "outputs": [],
   "source": [
    "p+=50"
   ]
  },
  {
   "cell_type": "code",
   "execution_count": 14,
   "id": "44ab9e52-9d4b-4fbc-8b63-9283378c5903",
   "metadata": {},
   "outputs": [
    {
     "data": {
      "text/plain": [
       "200"
      ]
     },
     "execution_count": 14,
     "metadata": {},
     "output_type": "execute_result"
    }
   ],
   "source": [
    "p"
   ]
  },
  {
   "cell_type": "code",
   "execution_count": 15,
   "id": "90396b5e-013a-453f-b954-528f64d8815b",
   "metadata": {},
   "outputs": [],
   "source": [
    "p*=2"
   ]
  },
  {
   "cell_type": "code",
   "execution_count": 16,
   "id": "e74f93f6-b656-4eb9-a578-d59ad21d0774",
   "metadata": {},
   "outputs": [
    {
     "data": {
      "text/plain": [
       "400"
      ]
     },
     "execution_count": 16,
     "metadata": {},
     "output_type": "execute_result"
    }
   ],
   "source": [
    "p"
   ]
  },
  {
   "cell_type": "code",
   "execution_count": 17,
   "id": "35cf0971-b40a-48bf-802f-e92e012f3bd4",
   "metadata": {},
   "outputs": [],
   "source": [
    "p/=2"
   ]
  },
  {
   "cell_type": "code",
   "execution_count": 18,
   "id": "7693469e-ee3b-414a-ae39-8633b279609e",
   "metadata": {},
   "outputs": [
    {
     "data": {
      "text/plain": [
       "200.0"
      ]
     },
     "execution_count": 18,
     "metadata": {},
     "output_type": "execute_result"
    }
   ],
   "source": [
    "p"
   ]
  },
  {
   "cell_type": "markdown",
   "id": "10136f9e-a5c1-4f5c-abd4-9a02a68070f1",
   "metadata": {},
   "source": [
    "Compare two numbers and print the results."
   ]
  },
  {
   "cell_type": "code",
   "execution_count": 19,
   "id": "06b3f555-4c09-4a02-a9d2-e8ee609beb26",
   "metadata": {},
   "outputs": [],
   "source": [
    "# let the two numbers be 10, and 20"
   ]
  },
  {
   "cell_type": "code",
   "execution_count": 20,
   "id": "014e84db-3e45-428f-948c-f6b3d6930c3f",
   "metadata": {},
   "outputs": [
    {
     "data": {
      "text/plain": [
       "False"
      ]
     },
     "execution_count": 20,
     "metadata": {},
     "output_type": "execute_result"
    }
   ],
   "source": [
    "10 == 20"
   ]
  },
  {
   "cell_type": "code",
   "execution_count": 21,
   "id": "d8ebd45a-dc59-4fae-bd90-665afb04038a",
   "metadata": {},
   "outputs": [
    {
     "data": {
      "text/plain": [
       "True"
      ]
     },
     "execution_count": 21,
     "metadata": {},
     "output_type": "execute_result"
    }
   ],
   "source": [
    "10 != 20"
   ]
  },
  {
   "cell_type": "code",
   "execution_count": 22,
   "id": "f9bca972-b638-4678-bd9f-0cfe0e370876",
   "metadata": {},
   "outputs": [
    {
     "data": {
      "text/plain": [
       "True"
      ]
     },
     "execution_count": 22,
     "metadata": {},
     "output_type": "execute_result"
    }
   ],
   "source": [
    "10<20"
   ]
  },
  {
   "cell_type": "code",
   "execution_count": 23,
   "id": "bbc0b1bb-354c-4d58-b815-472921bc0fd9",
   "metadata": {},
   "outputs": [
    {
     "data": {
      "text/plain": [
       "False"
      ]
     },
     "execution_count": 23,
     "metadata": {},
     "output_type": "execute_result"
    }
   ],
   "source": [
    "10>20"
   ]
  },
  {
   "cell_type": "markdown",
   "id": "da3cd3be-8703-4528-bff7-524dc412ce71",
   "metadata": {},
   "source": [
    "Check conditions using logical operators."
   ]
  },
  {
   "cell_type": "code",
   "execution_count": 24,
   "id": "54236647-df5e-4a0c-9dfe-606477420a27",
   "metadata": {},
   "outputs": [
    {
     "data": {
      "text/plain": [
       "True"
      ]
     },
     "execution_count": 24,
     "metadata": {},
     "output_type": "execute_result"
    }
   ],
   "source": [
    "True and True"
   ]
  },
  {
   "cell_type": "code",
   "execution_count": 25,
   "id": "e7a06bea-4339-4a94-8a26-1c3a398bd153",
   "metadata": {},
   "outputs": [
    {
     "data": {
      "text/plain": [
       "False"
      ]
     },
     "execution_count": 25,
     "metadata": {},
     "output_type": "execute_result"
    }
   ],
   "source": [
    "True and False"
   ]
  },
  {
   "cell_type": "code",
   "execution_count": 28,
   "id": "1aa151da-66df-43f2-bbd7-9a0c09aedc31",
   "metadata": {},
   "outputs": [
    {
     "data": {
      "text/plain": [
       "False"
      ]
     },
     "execution_count": 28,
     "metadata": {},
     "output_type": "execute_result"
    }
   ],
   "source": [
    "False and False\n"
   ]
  },
  {
   "cell_type": "code",
   "execution_count": 29,
   "id": "03297cf4-29dd-4b52-ab70-b334450d2a48",
   "metadata": {},
   "outputs": [
    {
     "data": {
      "text/plain": [
       "False"
      ]
     },
     "execution_count": 29,
     "metadata": {},
     "output_type": "execute_result"
    }
   ],
   "source": [
    "False and True"
   ]
  },
  {
   "cell_type": "code",
   "execution_count": 27,
   "id": "feb17a7b-800a-4fb1-bd13-7785e8aab59f",
   "metadata": {},
   "outputs": [
    {
     "data": {
      "text/plain": [
       "True"
      ]
     },
     "execution_count": 27,
     "metadata": {},
     "output_type": "execute_result"
    }
   ],
   "source": [
    "True or True"
   ]
  },
  {
   "cell_type": "code",
   "execution_count": 30,
   "id": "f9191c5e-6b54-4b44-b8f2-894e311b68f8",
   "metadata": {},
   "outputs": [
    {
     "data": {
      "text/plain": [
       "True"
      ]
     },
     "execution_count": 30,
     "metadata": {},
     "output_type": "execute_result"
    }
   ],
   "source": [
    "True or False"
   ]
  },
  {
   "cell_type": "code",
   "execution_count": 31,
   "id": "beda4729-049c-40a0-86ad-90063e4b053c",
   "metadata": {},
   "outputs": [
    {
     "data": {
      "text/plain": [
       "True"
      ]
     },
     "execution_count": 31,
     "metadata": {},
     "output_type": "execute_result"
    }
   ],
   "source": [
    "False or True"
   ]
  },
  {
   "cell_type": "code",
   "execution_count": 32,
   "id": "006a6cc6-a85b-4e35-8efd-be8f2541e22c",
   "metadata": {},
   "outputs": [
    {
     "data": {
      "text/plain": [
       "False"
      ]
     },
     "execution_count": 32,
     "metadata": {},
     "output_type": "execute_result"
    }
   ],
   "source": [
    "False or False"
   ]
  },
  {
   "cell_type": "markdown",
   "id": "55bb20ef-ffb3-447e-96ad-6b3338e6f7dc",
   "metadata": {},
   "source": [
    "Check the identity of variables."
   ]
  },
  {
   "cell_type": "code",
   "execution_count": 33,
   "id": "4244f560-a43a-4e8f-bbe0-af00ed6c847c",
   "metadata": {},
   "outputs": [],
   "source": [
    "a=10\n",
    "b=5"
   ]
  },
  {
   "cell_type": "code",
   "execution_count": 34,
   "id": "0b7474b9-019b-4824-b499-c0f5b8e5f88d",
   "metadata": {},
   "outputs": [
    {
     "data": {
      "text/plain": [
       "False"
      ]
     },
     "execution_count": 34,
     "metadata": {},
     "output_type": "execute_result"
    }
   ],
   "source": [
    "a is b"
   ]
  },
  {
   "cell_type": "code",
   "execution_count": 35,
   "id": "3855a842-24ce-4885-b052-bcf9b344e776",
   "metadata": {},
   "outputs": [
    {
     "data": {
      "text/plain": [
       "False"
      ]
     },
     "execution_count": 35,
     "metadata": {},
     "output_type": "execute_result"
    }
   ],
   "source": [
    "a==b"
   ]
  },
  {
   "cell_type": "code",
   "execution_count": 36,
   "id": "f23b7756-127a-479c-9e6d-4f594bbd84c1",
   "metadata": {},
   "outputs": [],
   "source": [
    "c = a"
   ]
  },
  {
   "cell_type": "code",
   "execution_count": 37,
   "id": "389d04f4-2399-41e9-840e-35db89c40858",
   "metadata": {},
   "outputs": [
    {
     "data": {
      "text/plain": [
       "True"
      ]
     },
     "execution_count": 37,
     "metadata": {},
     "output_type": "execute_result"
    }
   ],
   "source": [
    "a is c"
   ]
  },
  {
   "cell_type": "code",
   "execution_count": 38,
   "id": "c95aaa61-9f6d-4400-9e17-4a7cd67b735c",
   "metadata": {},
   "outputs": [],
   "source": [
    "p = 'prashu'\n",
    "r = 'ram'"
   ]
  },
  {
   "cell_type": "code",
   "execution_count": 39,
   "id": "1530a366-cdf7-4bd2-97f1-bde507876bd5",
   "metadata": {},
   "outputs": [
    {
     "data": {
      "text/plain": [
       "True"
      ]
     },
     "execution_count": 39,
     "metadata": {},
     "output_type": "execute_result"
    }
   ],
   "source": [
    "p is not r"
   ]
  },
  {
   "cell_type": "code",
   "execution_count": 40,
   "id": "7396954d-3cae-45c3-bd86-a153cf13b638",
   "metadata": {},
   "outputs": [
    {
     "data": {
      "text/plain": [
       "False"
      ]
     },
     "execution_count": 40,
     "metadata": {},
     "output_type": "execute_result"
    }
   ],
   "source": [
    "r is p"
   ]
  },
  {
   "cell_type": "markdown",
   "id": "200002f7-9a40-42fa-a900-83d8ae4ebe0e",
   "metadata": {},
   "source": [
    "Perform bitwise operations on any two integers."
   ]
  },
  {
   "cell_type": "code",
   "execution_count": 42,
   "id": "8b64514e-7bff-4be3-8f1f-3b26ec8c1cfc",
   "metadata": {},
   "outputs": [
    {
     "data": {
      "text/plain": [
       "20"
      ]
     },
     "execution_count": 42,
     "metadata": {},
     "output_type": "execute_result"
    }
   ],
   "source": [
    "20&20"
   ]
  },
  {
   "cell_type": "code",
   "execution_count": 44,
   "id": "a24502a1-70a7-4ad4-9bbe-05e84c2f983f",
   "metadata": {},
   "outputs": [
    {
     "data": {
      "text/plain": [
       "20"
      ]
     },
     "execution_count": 44,
     "metadata": {},
     "output_type": "execute_result"
    }
   ],
   "source": [
    "20&22"
   ]
  },
  {
   "cell_type": "code",
   "execution_count": 2,
   "id": "16d48bb7-846f-48a9-92a1-67b1a2d07bd6",
   "metadata": {},
   "outputs": [
    {
     "data": {
      "text/plain": [
       "'0b1111000'"
      ]
     },
     "execution_count": 2,
     "metadata": {},
     "output_type": "execute_result"
    }
   ],
   "source": [
    "bin(120)"
   ]
  },
  {
   "cell_type": "code",
   "execution_count": 3,
   "id": "6e76bb33-af58-4384-9ed5-76c39b410d78",
   "metadata": {},
   "outputs": [
    {
     "data": {
      "text/plain": [
       "'0b1011'"
      ]
     },
     "execution_count": 3,
     "metadata": {},
     "output_type": "execute_result"
    }
   ],
   "source": [
    "bin(11)"
   ]
  },
  {
   "cell_type": "code",
   "execution_count": 5,
   "id": "704b4753-2d14-4a0a-a40d-301e1f9f38aa",
   "metadata": {},
   "outputs": [
    {
     "data": {
      "text/plain": [
       "1760"
      ]
     },
     "execution_count": 5,
     "metadata": {},
     "output_type": "execute_result"
    }
   ],
   "source": [
    "55<< 5"
   ]
  },
  {
   "cell_type": "code",
   "execution_count": 6,
   "id": "d152ea2b-3d8b-4dc4-ad54-1aac9a3c0129",
   "metadata": {},
   "outputs": [
    {
     "data": {
      "text/plain": [
       "'0b110111'"
      ]
     },
     "execution_count": 6,
     "metadata": {},
     "output_type": "execute_result"
    }
   ],
   "source": [
    "bin(55)"
   ]
  },
  {
   "cell_type": "code",
   "execution_count": 7,
   "id": "020a2487-2926-4a81-8811-06e28b6d0718",
   "metadata": {},
   "outputs": [
    {
     "data": {
      "text/plain": [
       "'0b101'"
      ]
     },
     "execution_count": 7,
     "metadata": {},
     "output_type": "execute_result"
    }
   ],
   "source": [
    "bin(5)"
   ]
  },
  {
   "cell_type": "code",
   "execution_count": 8,
   "id": "8b446fc1-14ee-4199-b036-f7d94fbdc12d",
   "metadata": {},
   "outputs": [
    {
     "data": {
      "text/plain": [
       "'0b11011100000'"
      ]
     },
     "execution_count": 8,
     "metadata": {},
     "output_type": "execute_result"
    }
   ],
   "source": [
    "bin(1760)"
   ]
  },
  {
   "cell_type": "markdown",
   "id": "60d14953-a801-465b-9ba9-7eb05be8d7d5",
   "metadata": {},
   "source": [
    "Use unary operators to change the sign of a number "
   ]
  },
  {
   "cell_type": "code",
   "execution_count": 9,
   "id": "6fbe539e-64bc-4dfe-a9bd-3c4a1df09214",
   "metadata": {},
   "outputs": [],
   "source": [
    "#unary operators are (+,-)"
   ]
  },
  {
   "cell_type": "code",
   "execution_count": 11,
   "id": "6165cd80-e30f-43e3-bc25-6765c9cfab05",
   "metadata": {},
   "outputs": [],
   "source": [
    "x = 155\n"
   ]
  },
  {
   "cell_type": "code",
   "execution_count": 12,
   "id": "14316501-1c75-4c8c-8088-c438bdcf679c",
   "metadata": {},
   "outputs": [],
   "source": [
    "y=-(x)"
   ]
  },
  {
   "cell_type": "code",
   "execution_count": 13,
   "id": "c9c8cd8a-1729-4707-9ce6-9a37b7a3abc3",
   "metadata": {},
   "outputs": [
    {
     "name": "stdout",
     "output_type": "stream",
     "text": [
      "-155\n"
     ]
    }
   ],
   "source": [
    "print(y)"
   ]
  },
  {
   "cell_type": "code",
   "execution_count": 14,
   "id": "53bb841f-2ef6-419f-84ec-e450551d928f",
   "metadata": {},
   "outputs": [],
   "source": [
    "a = -40"
   ]
  },
  {
   "cell_type": "code",
   "execution_count": 15,
   "id": "c0e98b69-097c-40bc-8b19-8a3e4e8d7a02",
   "metadata": {},
   "outputs": [],
   "source": [
    "b=-(a)"
   ]
  },
  {
   "cell_type": "code",
   "execution_count": 16,
   "id": "39a9a0f3-fcfa-4144-89ab-77bd7f2b04ef",
   "metadata": {},
   "outputs": [
    {
     "data": {
      "text/plain": [
       "40"
      ]
     },
     "execution_count": 16,
     "metadata": {},
     "output_type": "execute_result"
    }
   ],
   "source": [
    "b"
   ]
  },
  {
   "cell_type": "code",
   "execution_count": 17,
   "id": "443947b5-894d-4202-8401-2b0dc8845098",
   "metadata": {},
   "outputs": [],
   "source": [
    "c = -50"
   ]
  },
  {
   "cell_type": "code",
   "execution_count": 20,
   "id": "d7850193-f87a-4fa9-bd42-3e493414a4cf",
   "metadata": {},
   "outputs": [],
   "source": [
    "d=-(c)"
   ]
  },
  {
   "cell_type": "code",
   "execution_count": 21,
   "id": "ab73533e-fb73-4868-8e40-aaa3874f9511",
   "metadata": {},
   "outputs": [
    {
     "data": {
      "text/plain": [
       "50"
      ]
     },
     "execution_count": 21,
     "metadata": {},
     "output_type": "execute_result"
    }
   ],
   "source": [
    "d "
   ]
  },
  {
   "cell_type": "markdown",
   "id": "68fdcd01-c937-4f21-95eb-1ff6ea5a09d4",
   "metadata": {},
   "source": [
    "Use the ternary operator to assign values based on conditions."
   ]
  },
  {
   "cell_type": "code",
   "execution_count": 22,
   "id": "5b761a7b-4cf9-470a-a8e7-061eb6773496",
   "metadata": {},
   "outputs": [],
   "source": [
    "a = 500\n",
    "b = 600"
   ]
  },
  {
   "cell_type": "code",
   "execution_count": 24,
   "id": "ad207275-6eea-4fc0-9596-1a4b55660ca4",
   "metadata": {},
   "outputs": [
    {
     "name": "stdout",
     "output_type": "stream",
     "text": [
      "a is less than b\n"
     ]
    }
   ],
   "source": [
    "if a < b:\n",
    "    print('a is less than b')"
   ]
  },
  {
   "cell_type": "code",
   "execution_count": 56,
   "id": "828cbcfe-23f6-457c-9b61-b5551238099f",
   "metadata": {},
   "outputs": [
    {
     "name": "stdin",
     "output_type": "stream",
     "text": [
      "enter a number 1111\n"
     ]
    },
    {
     "name": "stdout",
     "output_type": "stream",
     "text": [
      "a is > than 1000\n"
     ]
    }
   ],
   "source": [
    "a = int(input('enter a number'))\n",
    "if a > 1000:\n",
    "    print('a is > than 1000')\n",
    "elif 0<a<1000:\n",
    "    print('a is > than 0 and less than 1000')\n",
    "else:\n",
    "    print('a is negative')"
   ]
  },
  {
   "cell_type": "code",
   "execution_count": 57,
   "id": "a0300e30-4e3e-46b8-acaf-d5728728970f",
   "metadata": {},
   "outputs": [
    {
     "name": "stdin",
     "output_type": "stream",
     "text": [
      "enter a number 666\n"
     ]
    },
    {
     "name": "stdout",
     "output_type": "stream",
     "text": [
      "a is > than 0 and less than 1000\n"
     ]
    }
   ],
   "source": [
    "a = int(input('enter a number'))\n",
    "if a > 1000:\n",
    "    print('a is > than 1000')\n",
    "elif 0<a<1000:\n",
    "    print('a is > than 0 and less than 1000')\n",
    "else:\n",
    "    print('a is negative')"
   ]
  },
  {
   "cell_type": "code",
   "execution_count": 58,
   "id": "5d8d6fb8-92ee-4b95-9a9b-62ded780d7a2",
   "metadata": {},
   "outputs": [
    {
     "name": "stdin",
     "output_type": "stream",
     "text": [
      "enter a number -10000\n"
     ]
    },
    {
     "name": "stdout",
     "output_type": "stream",
     "text": [
      "a is negative\n"
     ]
    }
   ],
   "source": [
    "a = int(input('enter a number'))\n",
    "if a > 1000:\n",
    "    print('a is > than 1000')\n",
    "elif 0<a<1000:\n",
    "    print('a is > than 0 and less than 1000')\n",
    "else:\n",
    "    print('a is negative')"
   ]
  },
  {
   "cell_type": "code",
   "execution_count": null,
   "id": "d9e9d8ee-d62c-4402-8327-cd4bb2a7937c",
   "metadata": {},
   "outputs": [],
   "source": []
  }
 ],
 "metadata": {
  "kernelspec": {
   "display_name": "Python 3 (ipykernel)",
   "language": "python",
   "name": "python3"
  },
  "language_info": {
   "codemirror_mode": {
    "name": "ipython",
    "version": 3
   },
   "file_extension": ".py",
   "mimetype": "text/x-python",
   "name": "python",
   "nbconvert_exporter": "python",
   "pygments_lexer": "ipython3",
   "version": "3.10.8"
  }
 },
 "nbformat": 4,
 "nbformat_minor": 5
}
